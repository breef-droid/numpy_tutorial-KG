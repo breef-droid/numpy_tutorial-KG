{
  "cells": [
    {
      "cell_type": "markdown",
      "metadata": {
        "id": "hdTqMjf9VnxF"
      },
      "source": [
        "# Python Numpy Tutorial for Beginners\n",
        "## https://www.youtube.com/watch?v=GB9ByFAIAH4\n",
        "\n"
      ]
    },
    {
      "cell_type": "markdown",
      "metadata": {
        "id": "tPSc-9K0V0Jd"
      },
      "source": [
        "Numpy is a multidimensional array library - 1D, 2D, 3D ... nD\n",
        "Lists are slow to access, whereas numpy is fast.\n",
        "Numpy uses fixed type data types IE a number is a number of int32 type (32 bits or 4bytes). Whereas the same number in a list in python is represented by 4 different categories (size, reference count, object type and object value totalling 28 bytes or 224 bits).<br>\n",
        "It's therefore faster to read arrays, and there's is no type checking when iterating through arrays.<br>\n",
        "Numpy also uses contiguous memory, IE all the memory is in a straight line and next to each other. The same structure in a list would store the data all over the place.<br>\n"
      ]
    },
    {
      "cell_type": "code",
      "execution_count": 2,
      "metadata": {
        "id": "mGdPLihyVlhD"
      },
      "outputs": [],
      "source": [
        "import numpy as np"
      ]
    },
    {
      "cell_type": "markdown",
      "metadata": {
        "id": "utOMZU5NZ379"
      },
      "source": [
        "## The Basics"
      ]
    },
    {
      "cell_type": "code",
      "execution_count": 3,
      "metadata": {
        "colab": {
          "base_uri": "https://localhost:8080/"
        },
        "id": "tmjSsBwlZ3SZ",
        "outputId": "60c1c26f-08b5-46e3-a65a-0993cd99ae85"
      },
      "outputs": [
        {
          "name": "stdout",
          "output_type": "stream",
          "text": [
            "[1 2 3]\n"
          ]
        }
      ],
      "source": [
        "# Create 1D array\n",
        "a = np.array([1,2,3], dtype= 'int16')\n",
        "print(a)"
      ]
    },
    {
      "cell_type": "code",
      "execution_count": 4,
      "metadata": {
        "colab": {
          "base_uri": "https://localhost:8080/"
        },
        "id": "GLhYMWzlZ9uZ",
        "outputId": "b61374d1-f356-4147-a3e0-b538fb2e02c2"
      },
      "outputs": [
        {
          "name": "stdout",
          "output_type": "stream",
          "text": [
            "[[9 8 7]\n",
            " [6 5 4]]\n"
          ]
        }
      ],
      "source": [
        "# Create 2D array\n",
        "b = np.array([[9.0, 8.0, 7.0], [6.0, 5.0, 4.0]], dtype= 'int32')\n",
        "print(b)"
      ]
    },
    {
      "cell_type": "code",
      "execution_count": 5,
      "metadata": {
        "colab": {
          "base_uri": "https://localhost:8080/"
        },
        "id": "B658nOuUaKMJ",
        "outputId": "b0680291-3481-4354-f20d-d80bbccbae2d"
      },
      "outputs": [
        {
          "name": "stdout",
          "output_type": "stream",
          "text": [
            "1\n",
            "2\n"
          ]
        }
      ],
      "source": [
        "# Get the depth/dimension of the array\n",
        "print(a.ndim)\n",
        "print(b.ndim)"
      ]
    },
    {
      "cell_type": "code",
      "execution_count": 6,
      "metadata": {
        "colab": {
          "base_uri": "https://localhost:8080/"
        },
        "id": "P6yjIBtzaXdg",
        "outputId": "fc22649e-ff9d-4741-eab7-76c716d470a8"
      },
      "outputs": [
        {
          "name": "stdout",
          "output_type": "stream",
          "text": [
            "(3,)\n",
            "(2, 3)\n"
          ]
        }
      ],
      "source": [
        "# Get the shape of the array\n",
        "print(a.shape)\n",
        "print(b.shape)"
      ]
    },
    {
      "cell_type": "code",
      "execution_count": 7,
      "metadata": {
        "colab": {
          "base_uri": "https://localhost:8080/"
        },
        "id": "p8i_v0qqalO6",
        "outputId": "6206a1a6-3f53-4124-efc1-8fbb2f5af0d4"
      },
      "outputs": [
        {
          "data": {
            "text/plain": [
              "dtype('int16')"
            ]
          },
          "execution_count": 7,
          "metadata": {},
          "output_type": "execute_result"
        }
      ],
      "source": [
        "# Get type\n",
        "a.dtype"
      ]
    },
    {
      "cell_type": "code",
      "execution_count": 8,
      "metadata": {
        "colab": {
          "base_uri": "https://localhost:8080/"
        },
        "id": "U8EXX1yLau_R",
        "outputId": "4db8fb68-e846-468c-c931-6d3d6cebf9ef"
      },
      "outputs": [
        {
          "name": "stdout",
          "output_type": "stream",
          "text": [
            "2\n",
            "4\n"
          ]
        }
      ],
      "source": [
        "# Get size (ie size of array)\n",
        "print(a.itemsize)\n",
        "print(b.itemsize)"
      ]
    },
    {
      "cell_type": "code",
      "execution_count": 9,
      "metadata": {
        "colab": {
          "base_uri": "https://localhost:8080/"
        },
        "id": "6TWcW59Fa88x",
        "outputId": "619c4c07-886d-4fdf-a82b-ea1c73c72054"
      },
      "outputs": [
        {
          "name": "stdout",
          "output_type": "stream",
          "text": [
            "6\n",
            "24\n"
          ]
        }
      ],
      "source": [
        "# Get memory size\n",
        "print(a.nbytes)\n",
        "print(b.nbytes)\n"
      ]
    },
    {
      "cell_type": "markdown",
      "metadata": {},
      "source": [
        "## Accessing/Changing specific elements in multidimensional arrays"
      ]
    },
    {
      "cell_type": "code",
      "execution_count": 11,
      "metadata": {
        "id": "lXeFJIkTbOJh"
      },
      "outputs": [
        {
          "name": "stdout",
          "output_type": "stream",
          "text": [
            "[[ 1  2  3  4  5  6  7]\n",
            " [ 8  9 10 11 12 13 14]]\n"
          ]
        }
      ],
      "source": [
        "a = np.array([[1,2,3,4,5,6,7], [8,9,10,11,12,13,14]])\n",
        "print(a)"
      ]
    },
    {
      "cell_type": "markdown",
      "metadata": {},
      "source": [
        "To get a specific element in a multidimensional array use the [row-index, column-index] notation. All the same python list index/splicing methods work"
      ]
    },
    {
      "cell_type": "code",
      "execution_count": 12,
      "metadata": {},
      "outputs": [
        {
          "data": {
            "text/plain": [
              "13"
            ]
          },
          "execution_count": 12,
          "metadata": {},
          "output_type": "execute_result"
        }
      ],
      "source": [
        "# return the value 13 from the array a\n",
        "a[1, 5]"
      ]
    },
    {
      "cell_type": "code",
      "execution_count": 13,
      "metadata": {},
      "outputs": [
        {
          "data": {
            "text/plain": [
              "array([1, 2, 3, 4, 5, 6, 7])"
            ]
          },
          "execution_count": 13,
          "metadata": {},
          "output_type": "execute_result"
        }
      ],
      "source": [
        "# Get a specific row\n",
        "a[0, :]"
      ]
    },
    {
      "cell_type": "code",
      "execution_count": 16,
      "metadata": {},
      "outputs": [
        {
          "data": {
            "text/plain": [
              "array([ 3, 10])"
            ]
          },
          "execution_count": 16,
          "metadata": {},
          "output_type": "execute_result"
        }
      ],
      "source": [
        "# Get a specific column ::--> : will get all of the rows, and the column index will return the 3rd column\n",
        "a[:, 2]"
      ]
    },
    {
      "cell_type": "code",
      "execution_count": 17,
      "metadata": {},
      "outputs": [
        {
          "data": {
            "text/plain": [
              "array([2, 4, 6])"
            ]
          },
          "execution_count": 17,
          "metadata": {},
          "output_type": "execute_result"
        }
      ],
      "source": [
        "# More complex slicing [start-index : end-index : stepsize]\n",
        "a[0, 1:6:2]"
      ]
    },
    {
      "cell_type": "code",
      "execution_count": 18,
      "metadata": {},
      "outputs": [
        {
          "data": {
            "text/plain": [
              "array([[[1, 2],\n",
              "        [3, 4]],\n",
              "\n",
              "       [[5, 6],\n",
              "        [7, 8]]])"
            ]
          },
          "execution_count": 18,
          "metadata": {},
          "output_type": "execute_result"
        }
      ],
      "source": [
        "# 3D example\n",
        "b= np.array([[[1, 2], [3,4]], [[5,6], [7,8]]])\n",
        "b"
      ]
    },
    {
      "cell_type": "code",
      "execution_count": 22,
      "metadata": {},
      "outputs": [
        {
          "data": {
            "text/plain": [
              "4"
            ]
          },
          "execution_count": 22,
          "metadata": {},
          "output_type": "execute_result"
        }
      ],
      "source": [
        "#Return the value 4\n",
        "# Tip is to work outside in\n",
        "b[0, 1, 1]"
      ]
    },
    {
      "cell_type": "code",
      "execution_count": 28,
      "metadata": {},
      "outputs": [
        {
          "data": {
            "text/plain": [
              "array([[[1, 2],\n",
              "        [9, 9]],\n",
              "\n",
              "       [[5, 6],\n",
              "        [8, 8]]])"
            ]
          },
          "execution_count": 28,
          "metadata": {},
          "output_type": "execute_result"
        }
      ],
      "source": [
        "# Replace index values\n",
        "b[:, 1, :] # selects all rows, first index in each block, all items from the specific index\n",
        "b[:, 1, :] = [[9, 9], [8, 8]] # replaces selected index with 99 & 88, replacement must be same size of replacee\n",
        "b"
      ]
    },
    {
      "cell_type": "markdown",
      "metadata": {},
      "source": [
        "### Initialising different arrays"
      ]
    },
    {
      "cell_type": "code",
      "execution_count": 30,
      "metadata": {},
      "outputs": [
        {
          "data": {
            "text/plain": [
              "array([[[0., 0., 0.],\n",
              "        [0., 0., 0.],\n",
              "        [0., 0., 0.]],\n",
              "\n",
              "       [[0., 0., 0.],\n",
              "        [0., 0., 0.],\n",
              "        [0., 0., 0.]]])"
            ]
          },
          "execution_count": 30,
          "metadata": {},
          "output_type": "execute_result"
        }
      ],
      "source": [
        "# All 0-matrix\n",
        "np.zeros((2,3,3)) # 2 outside blocks of 3 rows and 3 columns"
      ]
    },
    {
      "cell_type": "code",
      "execution_count": 31,
      "metadata": {},
      "outputs": [
        {
          "data": {
            "text/plain": [
              "array([[[1, 1],\n",
              "        [1, 1],\n",
              "        [1, 1]],\n",
              "\n",
              "       [[1, 1],\n",
              "        [1, 1],\n",
              "        [1, 1]],\n",
              "\n",
              "       [[1, 1],\n",
              "        [1, 1],\n",
              "        [1, 1]],\n",
              "\n",
              "       [[1, 1],\n",
              "        [1, 1],\n",
              "        [1, 1]]])"
            ]
          },
          "execution_count": 31,
          "metadata": {},
          "output_type": "execute_result"
        }
      ],
      "source": [
        "# 1s matrix, specialising dtype of int32\n",
        "np.ones((4, 3, 2), dtype='int32')"
      ]
    },
    {
      "cell_type": "code",
      "execution_count": 32,
      "metadata": {},
      "outputs": [
        {
          "data": {
            "text/plain": [
              "array([[[69, 69, 69],\n",
              "        [69, 69, 69]],\n",
              "\n",
              "       [[69, 69, 69],\n",
              "        [69, 69, 69]]], dtype=int16)"
            ]
          },
          "execution_count": 32,
          "metadata": {},
          "output_type": "execute_result"
        }
      ],
      "source": [
        "# Any other number\n",
        "np.full((2,2,3), 69, dtype= 'int16')"
      ]
    },
    {
      "cell_type": "code",
      "execution_count": 34,
      "metadata": {},
      "outputs": [
        {
          "data": {
            "text/plain": [
              "array([[0.97919562, 0.9219305 , 0.25092416],\n",
              "       [0.48636687, 0.34817733, 0.97349086],\n",
              "       [0.70589342, 0.60190011, 0.08407235],\n",
              "       [0.79679794, 0.91095296, 0.39542348]])"
            ]
          },
          "execution_count": 34,
          "metadata": {},
          "output_type": "execute_result"
        }
      ],
      "source": [
        "# Random numbers\n",
        "np.random.rand(4, 3) # creates array of 4 rows 3 columns"
      ]
    },
    {
      "cell_type": "code",
      "execution_count": 44,
      "metadata": {},
      "outputs": [
        {
          "data": {
            "text/plain": [
              "array([[21, 33, 43],\n",
              "       [35, 16, 12],\n",
              "       [25, 37,  8]])"
            ]
          },
          "execution_count": 44,
          "metadata": {},
          "output_type": "execute_result"
        }
      ],
      "source": [
        "#Random integers\n",
        "np.random.randint(1, 50, size= (3, 3))"
      ]
    },
    {
      "cell_type": "code",
      "execution_count": 45,
      "metadata": {},
      "outputs": [
        {
          "data": {
            "text/plain": [
              "array([[1., 0., 0., 0., 0.],\n",
              "       [0., 1., 0., 0., 0.],\n",
              "       [0., 0., 1., 0., 0.],\n",
              "       [0., 0., 0., 1., 0.],\n",
              "       [0., 0., 0., 0., 1.]])"
            ]
          },
          "execution_count": 45,
          "metadata": {},
          "output_type": "execute_result"
        }
      ],
      "source": [
        "# Creates an identity matrix or a square matrix\n",
        "np.identity(5)"
      ]
    },
    {
      "cell_type": "markdown",
      "metadata": {},
      "source": [
        "### Task1: Create the following array\n",
        "\n"
      ]
    },
    {
      "cell_type": "code",
      "execution_count": 64,
      "metadata": {},
      "outputs": [
        {
          "data": {
            "text/plain": [
              "array([[1, 1, 1, 1, 1],\n",
              "       [1, 0, 0, 0, 1],\n",
              "       [1, 0, 9, 0, 1],\n",
              "       [1, 0, 0, 0, 1],\n",
              "       [1, 1, 1, 1, 1]], dtype=int8)"
            ]
          },
          "execution_count": 64,
          "metadata": {},
          "output_type": "execute_result"
        }
      ],
      "source": [
        "my_array = np.full((5, 5), 1, dtype= 'int8')\n",
        "my_array[1, 1:4] = [0,0,0]\n",
        "my_array[2, 1:4] = [0,9,0]\n",
        "my_array[3, 1:4] = [0,0,0]\n",
        "my_array\n"
      ]
    },
    {
      "cell_type": "code",
      "execution_count": 72,
      "metadata": {},
      "outputs": [
        {
          "data": {
            "text/plain": [
              "array([[1., 1., 1., 1., 1.],\n",
              "       [1., 0., 0., 0., 1.],\n",
              "       [1., 0., 9., 0., 1.],\n",
              "       [1., 0., 0., 0., 1.],\n",
              "       [1., 1., 1., 1., 1.]])"
            ]
          },
          "execution_count": 72,
          "metadata": {},
          "output_type": "execute_result"
        }
      ],
      "source": [
        "# Model answer\n",
        "# create 5x5 matrix filled with onesKey K\n",
        "output = np.ones((5, 5))\n",
        "# create 3X3 matrix filled with 0\n",
        "zeros = np.zeros((3, 3))\n",
        "zeros[1, 1] = 9\n",
        "#joining the two\n",
        "output[1:-1, 1:-1] = zeros\n",
        "output"
      ]
    },
    {
      "cell_type": "markdown",
      "metadata": {},
      "source": [
        "## Note when copying arrays!!!"
      ]
    },
    {
      "cell_type": "code",
      "execution_count": 78,
      "metadata": {},
      "outputs": [
        {
          "name": "stdout",
          "output_type": "stream",
          "text": [
            "[100   2   3]\n",
            "[100   2   3]\n"
          ]
        }
      ],
      "source": [
        "a = np.array([1,2,3])\n",
        "b = a #numpy uses a pointer to point to the item a\n",
        "b[0] = 100 # the pointer points to b and a\n",
        "print(b)\n",
        "print(a) # array a is changed by the above"
      ]
    },
    {
      "cell_type": "code",
      "execution_count": 79,
      "metadata": {},
      "outputs": [
        {
          "name": "stdout",
          "output_type": "stream",
          "text": [
            "[99  5  6]\n",
            "[4 5 6]\n"
          ]
        }
      ],
      "source": [
        "c = np.array([4, 5, 6])\n",
        "d = c.copy()\n",
        "d[0] = 99\n",
        "print(d)\n",
        "print(c) "
      ]
    },
    {
      "cell_type": "markdown",
      "metadata": {},
      "source": [
        "## Mathematic functions\n",
        "https://numpy.org/doc/stable/reference/routines.html"
      ]
    },
    {
      "cell_type": "code",
      "execution_count": 82,
      "metadata": {},
      "outputs": [
        {
          "data": {
            "text/plain": [
              "array([3, 4, 5, 6])"
            ]
          },
          "execution_count": 82,
          "metadata": {},
          "output_type": "execute_result"
        }
      ],
      "source": [
        "a = np.array([1, 2, 3, 4])\n",
        "a += 2\n",
        "a"
      ]
    },
    {
      "cell_type": "code",
      "execution_count": 83,
      "metadata": {},
      "outputs": [
        {
          "data": {
            "text/plain": [
              "array([ 6,  8, 10, 12])"
            ]
          },
          "execution_count": 83,
          "metadata": {},
          "output_type": "execute_result"
        }
      ],
      "source": [
        "a *= 2\n",
        "a"
      ]
    },
    {
      "cell_type": "code",
      "execution_count": 87,
      "metadata": {},
      "outputs": [
        {
          "data": {
            "text/plain": [
              "array([1, 2, 2, 3])"
            ]
          },
          "execution_count": 87,
          "metadata": {},
          "output_type": "execute_result"
        }
      ],
      "source": [
        "a //= 2\n",
        "a"
      ]
    },
    {
      "cell_type": "markdown",
      "metadata": {},
      "source": [
        "## Linear Algebra/Matrix Multiplication\n"
      ]
    },
    {
      "cell_type": "code",
      "execution_count": 90,
      "metadata": {},
      "outputs": [
        {
          "data": {
            "text/plain": [
              "array([[8., 8.],\n",
              "       [8., 8.]])"
            ]
          },
          "execution_count": 90,
          "metadata": {},
          "output_type": "execute_result"
        }
      ],
      "source": [
        "# matrix multiplication\n",
        "a = np.ones((2,4))\n",
        "b = np.full((4,2), 2)\n",
        "np.matmul(a, b)"
      ]
    },
    {
      "cell_type": "code",
      "execution_count": 92,
      "metadata": {},
      "outputs": [
        {
          "data": {
            "text/plain": [
              "1.0"
            ]
          },
          "execution_count": 92,
          "metadata": {},
          "output_type": "execute_result"
        }
      ],
      "source": [
        "# determinant\n",
        "c = np.identity(3)\n",
        "np.linalg.det(c)"
      ]
    },
    {
      "cell_type": "markdown",
      "metadata": {},
      "source": [
        "## Statistics"
      ]
    },
    {
      "cell_type": "code",
      "execution_count": 100,
      "metadata": {},
      "outputs": [
        {
          "data": {
            "text/plain": [
              "array([[1, 2, 3],\n",
              "       [4, 5, 2]])"
            ]
          },
          "execution_count": 100,
          "metadata": {},
          "output_type": "execute_result"
        }
      ],
      "source": [
        "stats = np.array([[1,2,3], [4,5,2]])\n",
        "stats"
      ]
    },
    {
      "cell_type": "code",
      "execution_count": 98,
      "metadata": {},
      "outputs": [
        {
          "data": {
            "text/plain": [
              "1"
            ]
          },
          "execution_count": 98,
          "metadata": {},
          "output_type": "execute_result"
        }
      ],
      "source": [
        "#min/max\n",
        "np.max(stats)\n",
        "np.min(stats)"
      ]
    },
    {
      "cell_type": "code",
      "execution_count": 103,
      "metadata": {},
      "outputs": [
        {
          "data": {
            "text/plain": [
              "array([1, 2, 2])"
            ]
          },
          "execution_count": 103,
          "metadata": {},
          "output_type": "execute_result"
        }
      ],
      "source": [
        "#row -(0) or column (1) based -> returns the min/max value of each space in the array along the row/column\n",
        "np.max(stats, axis= 1)\n",
        "np.min(stats, axis= 0)"
      ]
    },
    {
      "cell_type": "code",
      "execution_count": 106,
      "metadata": {},
      "outputs": [
        {
          "data": {
            "text/plain": [
              "array([ 6, 11])"
            ]
          },
          "execution_count": 106,
          "metadata": {},
          "output_type": "execute_result"
        }
      ],
      "source": [
        "# aggregation -> by row will add the elements per row position, by column will add the rows together\n",
        "np.sum(stats, axis= 1)"
      ]
    },
    {
      "cell_type": "markdown",
      "metadata": {},
      "source": [
        "## Reorganizing arrays"
      ]
    },
    {
      "cell_type": "code",
      "execution_count": 111,
      "metadata": {},
      "outputs": [
        {
          "name": "stdout",
          "output_type": "stream",
          "text": [
            "[[1 2 3 4]\n",
            " [5 6 7 8]]\n",
            "[[[1 2]\n",
            "  [3 4]]\n",
            "\n",
            " [[5 6]\n",
            "  [7 8]]]\n"
          ]
        }
      ],
      "source": [
        "before = np.array([[1,2,3,4], [5,6,7,8]])\n",
        "print(before)\n",
        "after = before.reshape((2, 2, 2)) # reshapes the matrix as long as the number of index positions are the same\n",
        "print(after)"
      ]
    },
    {
      "cell_type": "code",
      "execution_count": 116,
      "metadata": {},
      "outputs": [
        {
          "name": "stdout",
          "output_type": "stream",
          "text": [
            "[ 3 16  5 15] [14 16 10 10]\n"
          ]
        },
        {
          "data": {
            "text/plain": [
              "array([[ 3, 16,  5, 15],\n",
              "       [14, 16, 10, 10]])"
            ]
          },
          "execution_count": 116,
          "metadata": {},
          "output_type": "execute_result"
        }
      ],
      "source": [
        "# vertically stacking vectors/matrixes\n",
        "v1 = np.random.randint(1, 20, size= (4))\n",
        "v2 = np.random.randint(1, 17, size= (4))\n",
        "print(v1, v2)\n",
        "np.vstack([v1, v2])"
      ]
    },
    {
      "cell_type": "code",
      "execution_count": 120,
      "metadata": {},
      "outputs": [
        {
          "name": "stdout",
          "output_type": "stream",
          "text": [
            "[6 3 3 6] [8 7 2 4]\n"
          ]
        },
        {
          "data": {
            "text/plain": [
              "array([6, 3, 3, 6, 8, 7, 2, 4, 6, 3, 3, 6, 8, 7, 2, 4])"
            ]
          },
          "execution_count": 120,
          "metadata": {},
          "output_type": "execute_result"
        }
      ],
      "source": [
        "#horizontal stacks\n",
        "h1 = np.random.randint(1, 7, size= (4))\n",
        "h2 = np.random.randint(2, 9, size= (4))\n",
        "print(h1, h2)\n",
        "np.hstack([h1, h2, h1, h2])"
      ]
    },
    {
      "cell_type": "markdown",
      "metadata": {},
      "source": [
        "## Miscellaneous\n",
        "### Loading data from file"
      ]
    },
    {
      "cell_type": "code",
      "execution_count": 124,
      "metadata": {},
      "outputs": [
        {
          "data": {
            "text/plain": [
              "array([[41, 23, 14, 50, 30],\n",
              "       [20, 10, 41, 49,  7],\n",
              "       [43, 19, 39, 43,  4],\n",
              "       [ 8,  5, 25, 24, 25],\n",
              "       [15, 31, 10, 12,  8],\n",
              "       [23, 13, 44, 13, 40],\n",
              "       [29, 46, 22,  4, 45],\n",
              "       [32,  3, 26, 46, 16],\n",
              "       [28, 38, 21,  8,  2],\n",
              "       [32, 37, 16, 24, 24]])"
            ]
          },
          "execution_count": 124,
          "metadata": {},
          "output_type": "execute_result"
        }
      ],
      "source": [
        "# import from external source, & change datatype\n",
        "data_csv = np.genfromtxt('numpyData.csv', delimiter=',')\n",
        "data_csv = data_csv.astype('int32')\n",
        "data_csv"
      ]
    },
    {
      "cell_type": "markdown",
      "metadata": {},
      "source": [
        "### Boolean masking and advanced Indexing"
      ]
    },
    {
      "cell_type": "code",
      "execution_count": 125,
      "metadata": {},
      "outputs": [
        {
          "data": {
            "text/plain": [
              "array([[False,  True,  True, False, False],\n",
              "       [ True,  True, False, False,  True],\n",
              "       [False,  True, False, False,  True],\n",
              "       [ True,  True, False, False, False],\n",
              "       [ True, False,  True,  True,  True],\n",
              "       [ True,  True, False,  True, False],\n",
              "       [False, False,  True,  True, False],\n",
              "       [False,  True, False, False,  True],\n",
              "       [False, False,  True,  True,  True],\n",
              "       [False, False,  True, False, False]])"
            ]
          },
          "execution_count": 125,
          "metadata": {},
          "output_type": "execute_result"
        }
      ],
      "source": [
        "data_csv < 24 # bool masking"
      ]
    },
    {
      "cell_type": "code",
      "execution_count": 126,
      "metadata": {},
      "outputs": [
        {
          "data": {
            "text/plain": [
              "array([41, 23, 14, 50, 30, 20, 10, 41, 49,  7, 43, 19, 39, 43,  8,  5, 25,\n",
              "       24, 25, 15, 31, 10, 12,  8, 23, 13, 44, 13, 40, 29, 46, 22, 45, 32,\n",
              "       26, 46, 16, 28, 38, 21,  8, 32, 37, 16, 24, 24])"
            ]
          },
          "execution_count": 126,
          "metadata": {},
          "output_type": "execute_result"
        }
      ],
      "source": [
        "data_csv[data_csv > 4] #returns an array with the specific bool"
      ]
    },
    {
      "cell_type": "code",
      "execution_count": 141,
      "metadata": {},
      "outputs": [
        {
          "data": {
            "text/plain": [
              "array([23, 20])"
            ]
          },
          "execution_count": 141,
          "metadata": {},
          "output_type": "execute_result"
        }
      ],
      "source": [
        "data_csv[[0, 1],[1,0]]"
      ]
    },
    {
      "cell_type": "markdown",
      "metadata": {},
      "source": [
        "## Task: 2"
      ]
    },
    {
      "cell_type": "code",
      "execution_count": 157,
      "metadata": {},
      "outputs": [
        {
          "data": {
            "text/plain": [
              "array([[ 1,  2,  3,  4,  5],\n",
              "       [ 6,  7,  8,  9, 10],\n",
              "       [11, 12, 13, 14, 15],\n",
              "       [16, 17, 18, 19, 20],\n",
              "       [21, 22, 23, 24, 25],\n",
              "       [26, 27, 28, 29, 30]])"
            ]
          },
          "execution_count": 157,
          "metadata": {},
          "output_type": "execute_result"
        }
      ],
      "source": [
        "task_array = np.arange(1, 31, 1)\n",
        "task_array = np.vstack((task_array[0:5], task_array[5:10], task_array[10:15], task_array[15:20], task_array[20:25], task_array[25:30]))\n",
        "task_array"
      ]
    },
    {
      "cell_type": "code",
      "execution_count": 166,
      "metadata": {},
      "outputs": [
        {
          "data": {
            "text/plain": [
              "array([[11, 12],\n",
              "       [16, 17]])"
            ]
          },
          "execution_count": 166,
          "metadata": {},
          "output_type": "execute_result"
        }
      ],
      "source": [
        "task_array[2:4, 0:2]"
      ]
    },
    {
      "cell_type": "code",
      "execution_count": 167,
      "metadata": {},
      "outputs": [
        {
          "data": {
            "text/plain": [
              "array([ 2,  8, 14, 20])"
            ]
          },
          "execution_count": 167,
          "metadata": {},
          "output_type": "execute_result"
        }
      ],
      "source": [
        "task_array[[0,1,2,3], [1, 2, 3, 4]]"
      ]
    },
    {
      "cell_type": "code",
      "execution_count": 183,
      "metadata": {},
      "outputs": [
        {
          "data": {
            "text/plain": [
              "array([[ 4,  5],\n",
              "       [24, 25],\n",
              "       [29, 30]])"
            ]
          },
          "execution_count": 183,
          "metadata": {},
          "output_type": "execute_result"
        }
      ],
      "source": [
        "task_array[[0, 4, 5], 3:]"
      ]
    },
    {
      "cell_type": "code",
      "execution_count": null,
      "metadata": {},
      "outputs": [],
      "source": []
    }
  ],
  "metadata": {
    "colab": {
      "collapsed_sections": [],
      "name": "Untitled1.ipynb",
      "provenance": []
    },
    "interpreter": {
      "hash": "14c9cc82abcd209843f56b593ff8d9b108a4cf132d746024937464cae8041899"
    },
    "kernelspec": {
      "display_name": "Python 3.9.6 64-bit (system)",
      "name": "python3"
    },
    "language_info": {
      "codemirror_mode": {
        "name": "ipython",
        "version": 3
      },
      "file_extension": ".py",
      "mimetype": "text/x-python",
      "name": "python",
      "nbconvert_exporter": "python",
      "pygments_lexer": "ipython3",
      "version": "3.9.6"
    }
  },
  "nbformat": 4,
  "nbformat_minor": 0
}
