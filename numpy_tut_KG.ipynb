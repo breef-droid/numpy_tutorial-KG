{
  "nbformat": 4,
  "nbformat_minor": 0,
  "metadata": {
    "colab": {
      "name": "Untitled1.ipynb",
      "provenance": [],
      "collapsed_sections": []
    },
    "kernelspec": {
      "name": "python3",
      "display_name": "Python 3"
    },
    "language_info": {
      "name": "python"
    }
  },
  "cells": [
    {
      "cell_type": "markdown",
      "metadata": {
        "id": "hdTqMjf9VnxF"
      },
      "source": [
        "### Python Numpy Tutorial for Beginners\n",
        "#### https://www.youtube.com/watch?v=QUT1VHiLmmI\n",
        "\n"
      ]
    },
    {
      "cell_type": "markdown",
      "metadata": {
        "id": "tPSc-9K0V0Jd"
      },
      "source": [
        "Numpy is a multidimensional array library - 1D, 2D, 3D ... nD\n",
        "Lists are slow to access, whereas numpy is fast.\n",
        "Numpy uses fixed type data types IE a number is a number of int32 type (32 bits or 4bytes). Whereas the same number in a list in python is represented by 4 different categories (size, reference count, object type and object value totalling 28 bytes or 224 bits).<br>\n",
        "It's therefore faster to read arrays, and there's is no type checking when iterating through arrays.<br>\n",
        "Numpy also uses contiguous memory, IE all the memory is in a straight line and next to each other. The same structure in a list would store the data all over the place.<br>\n"
      ]
    },
    {
      "cell_type": "code",
      "metadata": {
        "id": "mGdPLihyVlhD"
      },
      "source": [
        "import numpy as np"
      ],
      "execution_count": 1,
      "outputs": []
    },
    {
      "cell_type": "markdown",
      "metadata": {
        "id": "utOMZU5NZ379"
      },
      "source": [
        "The Basics"
      ]
    },
    {
      "cell_type": "code",
      "metadata": {
        "colab": {
          "base_uri": "https://localhost:8080/"
        },
        "id": "tmjSsBwlZ3SZ",
        "outputId": "60c1c26f-08b5-46e3-a65a-0993cd99ae85"
      },
      "source": [
        "# Create 1D array\n",
        "a = np.array([1,2,3], dtype= 'int16')\n",
        "print(a)"
      ],
      "execution_count": 14,
      "outputs": [
        {
          "output_type": "stream",
          "name": "stdout",
          "text": [
            "[1 2 3]\n"
          ]
        }
      ]
    },
    {
      "cell_type": "code",
      "metadata": {
        "colab": {
          "base_uri": "https://localhost:8080/"
        },
        "id": "GLhYMWzlZ9uZ",
        "outputId": "b61374d1-f356-4147-a3e0-b538fb2e02c2"
      },
      "source": [
        "# Create 2D array\n",
        "b = np.array([[9.0, 8.0, 7.0], [6.0, 5.0, 4.0]], dtype= 'int32')\n",
        "print(b)"
      ],
      "execution_count": 15,
      "outputs": [
        {
          "output_type": "stream",
          "name": "stdout",
          "text": [
            "[[9 8 7]\n",
            " [6 5 4]]\n"
          ]
        }
      ]
    },
    {
      "cell_type": "code",
      "metadata": {
        "colab": {
          "base_uri": "https://localhost:8080/"
        },
        "id": "B658nOuUaKMJ",
        "outputId": "b0680291-3481-4354-f20d-d80bbccbae2d"
      },
      "source": [
        "# Get the depth/dimension of the array\n",
        "print(a.ndim)\n",
        "print(b.ndim)"
      ],
      "execution_count": 16,
      "outputs": [
        {
          "output_type": "stream",
          "name": "stdout",
          "text": [
            "1\n",
            "2\n"
          ]
        }
      ]
    },
    {
      "cell_type": "code",
      "metadata": {
        "colab": {
          "base_uri": "https://localhost:8080/"
        },
        "id": "P6yjIBtzaXdg",
        "outputId": "fc22649e-ff9d-4741-eab7-76c716d470a8"
      },
      "source": [
        "# Get the shape of the array\n",
        "print(a.shape)\n",
        "print(b.shape)"
      ],
      "execution_count": 17,
      "outputs": [
        {
          "output_type": "stream",
          "name": "stdout",
          "text": [
            "(3,)\n",
            "(2, 3)\n"
          ]
        }
      ]
    },
    {
      "cell_type": "code",
      "metadata": {
        "colab": {
          "base_uri": "https://localhost:8080/"
        },
        "id": "p8i_v0qqalO6",
        "outputId": "6206a1a6-3f53-4124-efc1-8fbb2f5af0d4"
      },
      "source": [
        "# Get type\n",
        "a.dtype"
      ],
      "execution_count": 18,
      "outputs": [
        {
          "output_type": "execute_result",
          "data": {
            "text/plain": [
              "dtype('int16')"
            ]
          },
          "metadata": {},
          "execution_count": 18
        }
      ]
    },
    {
      "cell_type": "code",
      "metadata": {
        "colab": {
          "base_uri": "https://localhost:8080/"
        },
        "id": "U8EXX1yLau_R",
        "outputId": "4db8fb68-e846-468c-c931-6d3d6cebf9ef"
      },
      "source": [
        "# Get size (ie size of array)\n",
        "print(a.itemsize)\n",
        "print(b.itemsize)"
      ],
      "execution_count": 20,
      "outputs": [
        {
          "output_type": "stream",
          "name": "stdout",
          "text": [
            "2\n",
            "4\n"
          ]
        }
      ]
    },
    {
      "cell_type": "code",
      "metadata": {
        "colab": {
          "base_uri": "https://localhost:8080/"
        },
        "id": "6TWcW59Fa88x",
        "outputId": "619c4c07-886d-4fdf-a82b-ea1c73c72054"
      },
      "source": [
        "# Get memory size\n",
        "print(a.nbytes)\n",
        "print(b.nbytes)\n"
      ],
      "execution_count": 23,
      "outputs": [
        {
          "output_type": "stream",
          "name": "stdout",
          "text": [
            "6\n",
            "24\n"
          ]
        }
      ]
    },
    {
      "cell_type": "code",
      "metadata": {
        "id": "lXeFJIkTbOJh"
      },
      "source": [
        ""
      ],
      "execution_count": null,
      "outputs": []
    }
  ]
}